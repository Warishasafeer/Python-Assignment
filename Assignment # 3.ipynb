{
 "cells": [
  {
   "cell_type": "code",
   "execution_count": 2,
   "metadata": {},
   "outputs": [
    {
     "name": "stdout",
     "output_type": "stream",
     "text": [
      "Enter first number:30\n",
      "enter operator-\n",
      "Enter second number10\n",
      "20.0\n"
     ]
    }
   ],
   "source": [
    "num1 = float(input(\"Enter first number:\"))\n",
    "op = input(\"enter operator\")\n",
    "num2 = float(input(\"Enter second number\"))\n",
    "\n",
    "if op == \"+\":\n",
    "    print (num1 + num2)\n",
    "elif op == \"-\":\n",
    "    print (num1 - num2)\n",
    "elif op == \"/\":\n",
    "    print (num1 / num2 )\n",
    "elif op == \"*\":\n",
    "    print (num1 * num2)\n",
    "else:\n",
    "    print(\"Invalid operator\")"
   ]
  },
  {
   "cell_type": "code",
   "execution_count": 7,
   "metadata": {},
   "outputs": [
    {
     "name": "stdout",
     "output_type": "stream",
     "text": [
      "[1, 2, 4, 5]\n",
      "['a', 'b', '1']\n",
      "number of numeric value is 5\n",
      "number of character value is 7\n"
     ]
    }
   ],
   "source": [
    "list = [1,2,4,5,\"a\",\"b\",\"1\"]\n",
    "num= []\n",
    "char= []\n",
    "numeric= 1\n",
    "chacracter= 1\n",
    "for i in list:\n",
    "    if (type(i)==int):\n",
    "        num.append(i)\n",
    "        numeric+=1\n",
    "    else:\n",
    "        char.append(i)\n",
    "        character+=1\n",
    "print (num)\n",
    "print (char)\n",
    "print (\"number of numeric value is\",numeric)\n",
    "print (\"number of character value is\", character)"
   ]
  },
  {
   "cell_type": "code",
   "execution_count": 1,
   "metadata": {},
   "outputs": [
    {
     "name": "stdout",
     "output_type": "stream",
     "text": [
      "{1: 'a', 2: 'b', 3: 'c', 4: 'd'}\n",
      "(1, 'a')\n",
      "(2, 'b')\n",
      "(3, 'c')\n",
      "(4, 'd')\n",
      "a\n",
      "b\n",
      "c\n",
      "d\n",
      "{1: 'a', 2: 'b', 3: 'c', 4: 'd', 5: 'f'}\n",
      "sum of keys is 5\n"
     ]
    }
   ],
   "source": [
    "dict = {1:\"a\",2:\"b\",3:\"c\",4:\"d\"}\n",
    "print(dict)\n",
    "sumed=1\n",
    "for i in dict.items():\n",
    "    print(i)\n",
    "for i in dict.keys():\n",
    "    sumed+=1\n",
    "for i in dict.values():\n",
    "    print(i)\n",
    "dict [5]=\"f\"\n",
    "print (dict)\n",
    "print(\"sum of keys is\",sumed)\n"
   ]
  },
  {
   "cell_type": "code",
   "execution_count": 2,
   "metadata": {},
   "outputs": [
    {
     "name": "stdout",
     "output_type": "stream",
     "text": [
      "sum of keys 10\n",
      "sum of valued 19\n"
     ]
    }
   ],
   "source": [
    "keyd=0\n",
    "valued=0\n",
    "dict={\n",
    "    1:2,2:4,3:5,4:8}\n",
    "for keys,values in dict.items():\n",
    "    keyd+=keys\n",
    "    valued+=values\n",
    "print (\"sum of keys\",keyd)\n",
    "print ('sum of valued', valued)"
   ]
  },
  {
   "cell_type": "code",
   "execution_count": 4,
   "metadata": {},
   "outputs": [
    {
     "data": {
      "text/plain": [
       "[2, 4, 10, 20, 5]"
      ]
     },
     "execution_count": 4,
     "metadata": {},
     "output_type": "execute_result"
    }
   ],
   "source": [
    "def remove(duplicate):\n",
    "    final_list=[]\n",
    "    for num in duplicate:\n",
    "        if num not in final_list:\n",
    "            final_list.append(num)\n",
    "    return final_list\n",
    "duplicate= [2,4,10,20,5,2,20,4]\n",
    "remove (duplicate)"
   ]
  },
  {
   "cell_type": "code",
   "execution_count": 5,
   "metadata": {},
   "outputs": [
    {
     "name": "stdout",
     "output_type": "stream",
     "text": [
      "key is present in the dictionary\n",
      "key is not present in the dicitionary\n"
     ]
    }
   ],
   "source": [
    "d = {1: 10, 2: 20, 3: 30, 4: 40, 5: 50, 6: 60}\n",
    "def is_key_present(x):\n",
    "    if x in d:\n",
    "        print ('key is present in the dictionary')\n",
    "    else:\n",
    "        print('key is not present in the dicitionary')\n",
    "is_key_present(5)\n",
    "is_key_present(9)"
   ]
  },
  {
   "cell_type": "code",
   "execution_count": null,
   "metadata": {},
   "outputs": [],
   "source": []
  }
 ],
 "metadata": {
  "kernelspec": {
   "display_name": "Python 3",
   "language": "python",
   "name": "python3"
  },
  "language_info": {
   "codemirror_mode": {
    "name": "ipython",
    "version": 3
   },
   "file_extension": ".py",
   "mimetype": "text/x-python",
   "name": "python",
   "nbconvert_exporter": "python",
   "pygments_lexer": "ipython3",
   "version": "3.7.4"
  }
 },
 "nbformat": 4,
 "nbformat_minor": 2
}
