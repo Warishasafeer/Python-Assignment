{
 "cells": [
  {
   "cell_type": "markdown",
   "metadata": {},
   "source": [
    "## "
   ]
  },
  {
   "cell_type": "code",
   "execution_count": 1,
   "metadata": {},
   "outputs": [
    {
     "name": "stdout",
     "output_type": "stream",
     "text": [
      "enter marks of the first subject:2\n",
      "enter marks of the second subject:3\n",
      "enter marks of the third subject:34\n",
      "enter marks of the fourth subject:33\n",
      "enter marks of the fifth subject:32\n",
      "Fail\n"
     ]
    }
   ],
   "source": [
    "sub1 = int(input(\"enter marks of the first subject:\"))\n",
    "sub2 = int(input(\"enter marks of the second subject:\"))\n",
    "sub3 = int(input(\"enter marks of the third subject:\"))\n",
    "sub4 = int(input(\"enter marks of the fourth subject:\"))\n",
    "sub5 = int(input(\"enter marks of the fifth subject:\"))\n",
    "avg = (sub1 + sub2 + sub3 + sub4 + sub5)/5\n",
    "if (avg >= 80 and avg <= 100):\n",
    "    print (\"A+\")\n",
    "elif (avg >= 70 and avg < 80):\n",
    "    print (\"A\")\n",
    "elif (avg >= 60 and avg < 70):\n",
    "    print (\"B\")\n",
    "elif (avg >= 50 and avg < 60):\n",
    "    print (\"C\")\n",
    "elif (avg >= 40 and avg < 50):\n",
    "    print (\"D\")\n",
    "elif (avg >= 33 and avg <40):\n",
    "    print (\"E\")\n",
    "elif (avg >= 0 and avg < 32):\n",
    "    print (\"Fail\")\n",
    "else :\n",
    "    print (\"You have give inappropriate number\")"
   ]
  },
  {
   "cell_type": "code",
   "execution_count": 12,
   "metadata": {},
   "outputs": [
    {
     "name": "stdout",
     "output_type": "stream",
     "text": [
      "Enter any number:45\n",
      "its odd\n"
     ]
    }
   ],
   "source": [
    "input_num = int(input(\"Enter any number:\"))\n",
    "if input_num % 2 ==0:\n",
    "    print (\"its even\")\n",
    "else:\n",
    "    print(\"its odd\")"
   ]
  },
  {
   "cell_type": "code",
   "execution_count": 14,
   "metadata": {},
   "outputs": [
    {
     "name": "stdout",
     "output_type": "stream",
     "text": [
      "Enter any number:10\n",
      "its even\n"
     ]
    }
   ],
   "source": [
    "input_num = int(input(\"Enter any number:\"))\n",
    "if input_num % 2 ==0:\n",
    "    print (\"its even\")\n",
    "else:\n",
    "    print(\"its odd\")"
   ]
  },
  {
   "cell_type": "code",
   "execution_count": 15,
   "metadata": {},
   "outputs": [
    {
     "data": {
      "text/plain": [
       "2"
      ]
     },
     "execution_count": 15,
     "metadata": {},
     "output_type": "execute_result"
    }
   ],
   "source": [
    "len (\"hi\")"
   ]
  },
  {
   "cell_type": "code",
   "execution_count": 20,
   "metadata": {},
   "outputs": [
    {
     "data": {
      "text/plain": [
       "6"
      ]
     },
     "execution_count": 20,
     "metadata": {},
     "output_type": "execute_result"
    }
   ],
   "source": [
    "len ([20,1,56,90,80,70])"
   ]
  },
  {
   "cell_type": "code",
   "execution_count": 21,
   "metadata": {},
   "outputs": [
    {
     "name": "stdout",
     "output_type": "stream",
     "text": [
      "15\n"
     ]
    }
   ],
   "source": [
    "mylist = [1,2,3,4,5]\n",
    "total = sum(mylist)\n",
    "print(total)"
   ]
  },
  {
   "cell_type": "code",
   "execution_count": 22,
   "metadata": {},
   "outputs": [
    {
     "name": "stdout",
     "output_type": "stream",
     "text": [
      "317\n"
     ]
    }
   ],
   "source": [
    "mylist = [20,1,56,90,80,70]\n",
    "total = sum(mylist)\n",
    "print(total)"
   ]
  },
  {
   "cell_type": "code",
   "execution_count": 27,
   "metadata": {},
   "outputs": [
    {
     "name": "stdout",
     "output_type": "stream",
     "text": [
      "Enter number of element:4\n",
      "Enter element:100\n",
      "Enter element:50\n",
      "Enter element:84\n",
      "Enter element:30\n",
      "largest element is : 100\n"
     ]
    }
   ],
   "source": [
    "a = []\n",
    "n = int(input(\"Enter number of element:\"))\n",
    "for i in range (1, n+1):\n",
    "    b = int(input(\"Enter element:\"))\n",
    "    a.append (b)\n",
    "a.sort()\n",
    "print(\"largest element is :\", a [n-1])"
   ]
  },
  {
   "cell_type": "code",
   "execution_count": 42,
   "metadata": {},
   "outputs": [
    {
     "name": "stdout",
     "output_type": "stream",
     "text": [
      "1\n",
      "1\n",
      "2\n",
      "3\n"
     ]
    }
   ],
   "source": [
    "a = [1, 1, 2, 3, 5, 8, 13, 21, 34, 55, 89]\n",
    "\n",
    "for nums in a:\n",
    "    if nums < 5:\n",
    "        print(nums)"
   ]
  },
  {
   "cell_type": "code",
   "execution_count": null,
   "metadata": {},
   "outputs": [],
   "source": []
  }
 ],
 "metadata": {
  "kernelspec": {
   "display_name": "Python 3",
   "language": "python",
   "name": "python3"
  },
  "language_info": {
   "codemirror_mode": {
    "name": "ipython",
    "version": 3
   },
   "file_extension": ".py",
   "mimetype": "text/x-python",
   "name": "python",
   "nbconvert_exporter": "python",
   "pygments_lexer": "ipython3",
   "version": "3.7.4"
  }
 },
 "nbformat": 4,
 "nbformat_minor": 2
}
