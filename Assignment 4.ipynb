{
 "cells": [
  {
   "cell_type": "code",
   "execution_count": 1,
   "metadata": {},
   "outputs": [
    {
     "name": "stdout",
     "output_type": "stream",
     "text": [
      "Hello what is your name?warisha\n",
      "Hiwarisha, I'm thinking a number between 1 and 100.\n",
      "Enter a guess: 50\n",
      "That was too high!\n",
      "Enter a guess: 30\n",
      "That was too low!\n",
      "Enter a guess: 40\n",
      "That was too high!\n",
      "You lose, too bad, better luck next time. The right answer was  31\n"
     ]
    }
   ],
   "source": [
    "import random\n",
    "name = input(\"Hello what is your name?\")\n",
    "number = random.randint(1,100)\n",
    "print(\"Hi\" + name + \", I'm thinking a number between 1 and 100.\")\n",
    "guessesTaken = 0\n",
    "\n",
    "while guessesTaken <3:\n",
    "    guess=input(\"Enter a guess: \")\n",
    "    guess=int(guess)\n",
    "    guessesTaken = guessesTaken + 1\n",
    "    if guess < number:\n",
    "        print(\"That was too low!\")\n",
    "    elif guess > number:\n",
    "        print(\"That was too high!\")\n",
    "    else:\n",
    "        break\n",
    "if guess == number:\n",
    "    print(\"Winner winner, chicken dinner!, Congrats \" + name + \" you guessed the correct number\")\n",
    "else:\n",
    "    print(\"You lose, too bad, better luck next time. The right answer was \", number)"
   ]
  },
  {
   "cell_type": "code",
   "execution_count": 2,
   "metadata": {},
   "outputs": [
    {
     "data": {
      "text/plain": [
       "'My favorite book is Alice In Wonderland'"
      ]
     },
     "execution_count": 2,
     "metadata": {},
     "output_type": "execute_result"
    }
   ],
   "source": [
    "def favorite_book (title):\n",
    "    return(\"My favorite book is\" + \" \" + title)\n",
    "favorite_book(\"Alice In Wonderland\")"
   ]
  },
  {
   "cell_type": "code",
   "execution_count": 4,
   "metadata": {},
   "outputs": [
    {
     "name": "stdout",
     "output_type": "stream",
     "text": [
      "Enter your age 5\n",
      "You have to pay 10$\n"
     ]
    }
   ],
   "source": [
    "age = int(input(\"Enter your age\" + \" \"))\n",
    "if (age <=3):\n",
    "    ticket = \"free\"\n",
    "elif (age >3 and age <=12):\n",
    "    ticket = \"10$\"\n",
    "elif (age >12):\n",
    "    ticket = \"15$\"\n",
    "print(\"You have to pay\" + \" \" + ticket)"
   ]
  },
  {
   "cell_type": "code",
   "execution_count": 5,
   "metadata": {},
   "outputs": [
    {
     "name": "stdout",
     "output_type": "stream",
     "text": [
      "{'s no.': 1, 'city name': 'New York', 'country': 'USA', 'population': '8.5 million', 'facts': 'More than 800 languages are being spoken in New York'}\n",
      "{'s no.': 2, 'city name': 'Vienna', 'country': 'Austria', 'population': '1.757 million', 'facts': 'Vienna is the first city in the world to place the white gold'}\n",
      "{'s no.': 3, 'city name': 'Helsinki', 'country': 'Finland', 'population': '1292232', 'facts': 'the city of helsinki has a average of 121 rainy days'}\n"
     ]
    }
   ],
   "source": [
    "cities = {\n",
    "   0: {\n",
    "       \"s no.\" : 1,\n",
    "        \"city name\" : \"New York\",\n",
    "        \"country\" : \"USA\",\n",
    "        \"population\" : \"8.5 million\",\n",
    "        \"facts\" : \"More than 800 languages are being spoken in New York\"\n",
    "   }, \n",
    "    1: {\n",
    "        \"s no.\" : 2,\n",
    "        \"city name\" : \"Vienna\",\n",
    "        \"country\" : \"Austria\",\n",
    "        \"population\" : \"1.757 million\",\n",
    "        \"facts\" : \"Vienna is the first city in the world to place the white gold\"\n",
    "    },\n",
    "    2: {\n",
    "        \"s no.\" : 3,\n",
    "        \"city name\" : \"Helsinki\",\n",
    "        \"country\" : \"Finland\",\n",
    "        \"population\" : \"1292232\",\n",
    "        \"facts\" : \"the city of helsinki has a average of 121 rainy days\"\n",
    "    }\n",
    "}\n",
    "print(cities[0])\n",
    "print(cities[1])\n",
    "print(cities[2])"
   ]
  },
  {
   "cell_type": "code",
   "execution_count": 6,
   "metadata": {},
   "outputs": [
    {
     "name": "stdout",
     "output_type": "stream",
     "text": [
      "Warisha\n",
      "Safeer\n",
      "23\n",
      "Karachi\n"
     ]
    }
   ],
   "source": [
    "customer = {\n",
    "    \n",
    "        \"First name\" : \"Warisha\",\n",
    "        \"Last name\" : \"Safeer\",\n",
    "        \"Age\" : 23,\n",
    "        \"City\" : \"Karachi\"\n",
    "}\n",
    "print(customer[\"First name\"])\n",
    "print(customer[\"Last name\"])\n",
    "print(customer[\"Age\"])\n",
    "print(customer[\"City\"])"
   ]
  },
  {
   "cell_type": "code",
   "execution_count": 7,
   "metadata": {},
   "outputs": [
    {
     "name": "stdout",
     "output_type": "stream",
     "text": [
      "{'First name': 'Warisha', 'Last name': 'Safeer', 'Age': 23, 'City': 'Karachi', 'Education': 'Graduate'}\n"
     ]
    }
   ],
   "source": [
    "customer = {\n",
    "    \n",
    "        \"First name\" : \"Warisha\",\n",
    "        \"Last name\" : \"Safeer\",\n",
    "        \"Age\" : 23,\n",
    "        \"City\" : \"Karachi\"\n",
    "}\n",
    "customer [\"Education\"] = 'Graduate'\n",
    "print (customer)"
   ]
  },
  {
   "cell_type": "code",
   "execution_count": 8,
   "metadata": {},
   "outputs": [
    {
     "name": "stdout",
     "output_type": "stream",
     "text": [
      "{'First name': 'Warisha', 'Last name': 'Safeer', 'Age': 23, 'City': 'Karachi'}\n"
     ]
    }
   ],
   "source": [
    "del customer[\"Education\"]\n",
    "print (customer)"
   ]
  },
  {
   "cell_type": "code",
   "execution_count": null,
   "metadata": {},
   "outputs": [],
   "source": []
  }
 ],
 "metadata": {
  "kernelspec": {
   "display_name": "Python 3",
   "language": "python",
   "name": "python3"
  },
  "language_info": {
   "codemirror_mode": {
    "name": "ipython",
    "version": 3
   },
   "file_extension": ".py",
   "mimetype": "text/x-python",
   "name": "python",
   "nbconvert_exporter": "python",
   "pygments_lexer": "ipython3",
   "version": "3.7.4"
  }
 },
 "nbformat": 4,
 "nbformat_minor": 2
}
